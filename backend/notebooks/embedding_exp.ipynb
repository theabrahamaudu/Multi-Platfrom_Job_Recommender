{
 "cells": [
  {
   "cell_type": "code",
   "execution_count": 1,
   "metadata": {},
   "outputs": [
    {
     "data": {
      "text/plain": [
       "'/home/abraham-pc/Documents/personal_projects/Multi-Platform_Job_Recommender/backend'"
      ]
     },
     "execution_count": 1,
     "metadata": {},
     "output_type": "execute_result"
    }
   ],
   "source": [
    "import os\n",
    "\n",
    "# change the working directory to root of this project\n",
    "os.chdir(\"..\")\n",
    "\n",
    "# verify the working directory\n",
    "os.getcwd()"
   ]
  },
  {
   "cell_type": "code",
   "execution_count": 2,
   "metadata": {},
   "outputs": [
    {
     "name": "stderr",
     "output_type": "stream",
     "text": [
      "/home/abraham-pc/Documents/personal_projects/Multi-Platform_Job_Recommender/.venv/lib/python3.10/site-packages/tqdm/auto.py:21: TqdmWarning: IProgress not found. Please update jupyter and ipywidgets. See https://ipywidgets.readthedocs.io/en/stable/user_install.html\n",
      "  from .autonotebook import tqdm as notebook_tqdm\n"
     ]
    }
   ],
   "source": [
    "from backend.src.models.embedding_model import model\n",
    "import pandas as pd\n",
    "import numpy as np"
   ]
  },
  {
   "cell_type": "code",
   "execution_count": 3,
   "metadata": {},
   "outputs": [],
   "source": [
    "sample_jobs = pd.read_csv(\"./notebooks/sample_jobs.csv\")"
   ]
  },
  {
   "cell_type": "code",
   "execution_count": 4,
   "metadata": {},
   "outputs": [],
   "source": [
    "job = sample_jobs.iloc[0]"
   ]
  },
  {
   "cell_type": "code",
   "execution_count": 5,
   "metadata": {},
   "outputs": [],
   "source": [
    "full_text = str()\n",
    "\n",
    "cols = job.keys().tolist()[3:]\n",
    "\n",
    "for col in cols:\n",
    "    full_text += str(job[col]) + \" \""
   ]
  },
  {
   "cell_type": "code",
   "execution_count": 6,
   "metadata": {},
   "outputs": [
    {
     "data": {
      "text/plain": [
       "\"Indeed jobTitle-d1d12124babd4d39 Airport Attendant Kas Ventures Kas Ventures\\nLagos Employer\\nActive 5 days ago https://ng.indeed.com/company/KAS-VENTURES/jobs/Airport-Attendant-d1d12124babd4d39?fccid=c9d38c2bd423b7d1&vjs=3 Conducting pre-flight safety checks and ensuring the plane is clean.\\nDemonstrating safety and emergency measures, such as the use of oxygen masks, seat belts, and exit doors.\\nOffering information and support to ensure the safety and comfort of passengers.\\nWelcoming passengers, verifying their tickets, and directing them to their seats.\\nMaking and serving beverages and food to passengers.\\nResponding to passengers' questions about flights, travel routes, and arrival times.\\nAttending pre-flight briefings and studying all the details of the flight.\\nLeading passengers in case of emergency and giving first aid to passengers if necessary.\\nOffering support to passengers with special needs, including children, disabled persons, and elderly individuals.\\nPreparing analytic reports concerning flight issues.\\n\\nJob Type: Full-time\\n\\nPay: Up to ₦120,000.00 per month\\n\\nAbility to commute/relocate:\\n\\nLagos: Reliably commute or planning to relocate before starting work (Required) Unavailable on Indeed Full-time Unavailable on Indeed Unavailable on Indeed \""
      ]
     },
     "execution_count": 6,
     "metadata": {},
     "output_type": "execute_result"
    }
   ],
   "source": [
    "full_text"
   ]
  },
  {
   "cell_type": "code",
   "execution_count": 7,
   "metadata": {},
   "outputs": [],
   "source": [
    "embedding = model.encode(full_text)"
   ]
  },
  {
   "cell_type": "code",
   "execution_count": 8,
   "metadata": {},
   "outputs": [
    {
     "data": {
      "text/plain": [
       "numpy.ndarray"
      ]
     },
     "execution_count": 8,
     "metadata": {},
     "output_type": "execute_result"
    }
   ],
   "source": [
    "type(embedding)"
   ]
  },
  {
   "cell_type": "code",
   "execution_count": 9,
   "metadata": {},
   "outputs": [],
   "source": [
    "emb_list = embedding.tolist() # convert embedding to list"
   ]
  },
  {
   "cell_type": "code",
   "execution_count": 10,
   "metadata": {},
   "outputs": [
    {
     "data": {
      "text/plain": [
       "float"
      ]
     },
     "execution_count": 10,
     "metadata": {},
     "output_type": "execute_result"
    }
   ],
   "source": [
    "type(emb_list[0])"
   ]
  },
  {
   "cell_type": "code",
   "execution_count": 12,
   "metadata": {},
   "outputs": [],
   "source": [
    "from backend.etl.databases.milvus.milvus_conn import MilvusConn\n",
    "# from backend.etl.databases.milvus.table_models import schema\n",
    "from pymilvus import Collection\n",
    "from uuid import uuid4\n",
    "conn = MilvusConn()\n",
    "\n",
    "collection = Collection(name=conn.collection_name, using=conn.session_name, db_name=conn.database_name)\n",
    "collection.create_index(\n",
    "            field_name=\"embedding\",\n",
    "            index_name=\"emb_idx\",\n",
    "            index_params={\n",
    "                \"metric_type\": \"L2\",\n",
    "                \"index_type\": \"HNSW\",\n",
    "                \"params\": {\"M\": 64, \"efConstruction\": 80}\n",
    "            }\n",
    ")\n",
    "collection.load()\n",
    "collection.insert([[str(uuid4())],[emb_list]])\n",
    "conn.close()"
   ]
  },
  {
   "cell_type": "code",
   "execution_count": null,
   "metadata": {},
   "outputs": [],
   "source": []
  },
  {
   "cell_type": "code",
   "execution_count": null,
   "metadata": {},
   "outputs": [],
   "source": []
  }
 ],
 "metadata": {
  "kernelspec": {
   "display_name": ".venv",
   "language": "python",
   "name": "python3"
  },
  "language_info": {
   "codemirror_mode": {
    "name": "ipython",
    "version": 3
   },
   "file_extension": ".py",
   "mimetype": "text/x-python",
   "name": "python",
   "nbconvert_exporter": "python",
   "pygments_lexer": "ipython3",
   "version": "3.10.12"
  }
 },
 "nbformat": 4,
 "nbformat_minor": 2
}
