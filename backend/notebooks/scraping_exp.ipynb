{
 "cells": [
  {
   "cell_type": "code",
   "execution_count": null,
   "metadata": {},
   "outputs": [],
   "source": [
    "import os\n",
    "\n",
    "# change the working directory to root of this project\n",
    "os.chdir(\"..\")\n",
    "# os.chdir(\"..\")\n",
    "\n",
    "# verify the working directory\n",
    "os.getcwd()"
   ]
  },
  {
   "cell_type": "code",
   "execution_count": null,
   "metadata": {},
   "outputs": [],
   "source": [
    "from etl.extract.site_scraper import LinkedinScraper, IndeedScraper, JobbermanScraper, scrape_with_retry"
   ]
  },
  {
   "cell_type": "code",
   "execution_count": null,
   "metadata": {},
   "outputs": [],
   "source": [
    "# generate_profile()"
   ]
  },
  {
   "cell_type": "code",
   "execution_count": null,
   "metadata": {},
   "outputs": [],
   "source": [
    "# import time\n",
    "# def scrape_with_retry(SiteScraper):\n",
    "#     try:\n",
    "#         scraper = SiteScraper()\n",
    "#         scraping = scraper.scrape()\n",
    "#         jobs_df = scraper.create_dataframe()\n",
    "#         if len(jobs_df) == 0:\n",
    "#             raise Exception(\"Ran into AuthWall\")\n",
    "#         scraper.update_database()\n",
    "\n",
    "#         return jobs_df\n",
    "#     except Exception as e:\n",
    "#         print(f\"Error scraping {SiteScraper.__class__.__name__}: {e}\")\n",
    "#         new_profile = generate_profile()\n",
    "#         print(f\"New profile: {new_profile}\")\n",
    "#         print(\"Sleeping for 10 seconds...\")\n",
    "#         time.sleep(10)\n",
    "#         scraper = SiteScraper(profile_name=new_profile)\n",
    "#         scraping = scraper.scrape()\n",
    "#         jobs_df = scraper.create_dataframe()\n",
    "#         scraper.update_database()\n",
    "\n",
    "#         return jobs_df\n",
    "\n",
    "# linkedin_scraper = LinkedinScraper()\n",
    "# scraping = linkedin_scraper.scrape()\n",
    "# jobs_df = linkedin_scraper.create_dataframe()\n",
    "# linkedin_scraper.update_database()"
   ]
  },
  {
   "cell_type": "code",
   "execution_count": null,
   "metadata": {},
   "outputs": [],
   "source": [
    "scrape_with_retry(LinkedinScraper)"
   ]
  },
  {
   "cell_type": "code",
   "execution_count": null,
   "metadata": {},
   "outputs": [],
   "source": [
    "indeed_scraper = IndeedScraper()\n",
    "scraping = indeed_scraper.scrape()\n",
    "jobs_df = indeed_scraper.create_dataframe()\n",
    "indeed_scraper.update_database() # working\n",
    "\n",
    "# linkedin_scraper = LinkedinScraper()\n",
    "# scraping = linkedin_scraper.scrape()\n",
    "# jobs_df = linkedin_scraper.create_dataframe()\n",
    "# linkedin_scraper.update_database()\n",
    "\n",
    "# jobberman_scraper = JobbermanScraper(num_jobs=50)\n",
    "# scraping = jobberman_scraper.scrape()\n",
    "# jobs_df = jobberman_scraper.create_dataframe()\n",
    "# jobberman_scraper.update_database()\n",
    "\n"
   ]
  },
  {
   "cell_type": "code",
   "execution_count": null,
   "metadata": {},
   "outputs": [],
   "source": [
    "jobs_df"
   ]
  },
  {
   "cell_type": "code",
   "execution_count": null,
   "metadata": {},
   "outputs": [],
   "source": [
    "df = linkedin_scraper.create_dataframe()"
   ]
  },
  {
   "cell_type": "code",
   "execution_count": null,
   "metadata": {},
   "outputs": [],
   "source": [
    "df['job_id'].unique()"
   ]
  },
  {
   "cell_type": "code",
   "execution_count": null,
   "metadata": {},
   "outputs": [],
   "source": [
    "str(None)"
   ]
  },
  {
   "cell_type": "markdown",
   "metadata": {},
   "source": []
  },
  {
   "cell_type": "code",
   "execution_count": null,
   "metadata": {},
   "outputs": [],
   "source": [
    "clean_text(jobs_df['job_desc'][1])"
   ]
  },
  {
   "cell_type": "code",
   "execution_count": null,
   "metadata": {},
   "outputs": [],
   "source": [
    "# Store Keeper\n",
    ".css-1p3gyjy > div:nth-child(1) > div:nth-child(1)\n",
    "\n",
    "# Laundry Supervisor\n",
    "div.css-1p3gyjy:nth-child(1) > div:nth-child(1) > div:nth-child(1)\n",
    "\n",
    "# Data Entry (correct)\n",
    "/html/body/div/div/div[2]/div/div/div[1]/div[3]/div/div[2]/div[4]/div[2]/div[2]/div/div/div/div\n",
    "\n",
    ".css-1p3gyjy > div:nth-child(1) > div:nth-child(1)\n",
    "div.css-1p3gyjy:nth-child(1) > div:nth-child(1) > div:nth-child(1)\n",
    ".css-tvvxwd"
   ]
  },
  {
   "cell_type": "code",
   "execution_count": null,
   "metadata": {},
   "outputs": [],
   "source": [
    ".JobsList_jobsList__Ey2Vo"
   ]
  },
  {
   "cell_type": "code",
   "execution_count": null,
   "metadata": {},
   "outputs": [],
   "source": [
    "/html/body/div[2]/div[1]/div[3]/div[2]/div[1]/div[2]/ul/li[{n}]/div/div/div[1]/div[1]/a[2]"
   ]
  },
  {
   "cell_type": "code",
   "execution_count": null,
   "metadata": {},
   "outputs": [],
   "source": [
    "list(range(0))"
   ]
  },
  {
   "cell_type": "code",
   "execution_count": null,
   "metadata": {},
   "outputs": [],
   "source": [
    "import math\n",
    "math.ceil(37 / 30)"
   ]
  },
  {
   "cell_type": "code",
   "execution_count": null,
   "metadata": {},
   "outputs": [],
   "source": [
    "jobs_df.to_csv('sample_jobs.csv', index=False)"
   ]
  },
  {
   "cell_type": "code",
   "execution_count": null,
   "metadata": {},
   "outputs": [],
   "source": [
    "# generate random string with letters and digits\n",
    "import random\n",
    "import string\n",
    "random_string = ''.join(random.choice(string.ascii_letters + string.digits) for _ in range(10))\n",
    "random_string"
   ]
  },
  {
   "cell_type": "code",
   "execution_count": null,
   "metadata": {},
   "outputs": [],
   "source": [
    "generate_profile()"
   ]
  },
  {
   "cell_type": "code",
   "execution_count": null,
   "metadata": {},
   "outputs": [],
   "source": [
    "import glob\n",
    "import os\n",
    "profile_name = \"SeleniumznMB4kd7X8\"\n",
    "glob.glob(os.path.expanduser(f\"/home/abraham-pc/snap/firefox/common/.mozilla/firefox/*.{profile_name}\"))[0]"
   ]
  },
  {
   "cell_type": "code",
   "execution_count": null,
   "metadata": {},
   "outputs": [],
   "source": [
    "import glob\n",
    "import os\n",
    "\n",
    "os.chdir(\"/home\")\n",
    "# Define the profile name\n",
    "profile_name = \"9y04dc5p.Selenium\"\n",
    "\n",
    "# Construct the search pattern\n",
    "search_pattern = f\"~./abraham-pc/snap/firefox/common/.cache/mozilla/firefox/{profile_name}\"\n",
    "\n",
    "# Search for the profile directory\n",
    "profile_paths = glob.glob(search_pattern)\n",
    "\n",
    "if profile_paths:\n",
    "    print(\"Profile paths found:\")\n",
    "    for path in profile_paths:\n",
    "        print(path)\n",
    "else:\n",
    "    print(\"No matching profiles found.\")\n"
   ]
  },
  {
   "cell_type": "code",
   "execution_count": null,
   "metadata": {},
   "outputs": [],
   "source": [
    "profile = f'firefox -CreateProfile Selenium{random_string}'\n",
    "profile[23:]"
   ]
  },
  {
   "cell_type": "code",
   "execution_count": null,
   "metadata": {},
   "outputs": [],
   "source": [
    "'firefox -CreateProfile \"profile /home/abraham-pc/snap/firefox/common/.mozilla/firefox/Seleniumkqjjax\"'\n"
   ]
  },
  {
   "cell_type": "code",
   "execution_count": null,
   "metadata": {},
   "outputs": [],
   "source": [
    "link = \"https://ng.linkedin.com/jobs/view/submit-cvs-%E2%80%93-latest-recruitment-at-rainoil-limited-5-positions-at-rainoil-limited-3775989920?refId=VY3i%2BdPd%2BEfRJAvprViJoQ%3D%3D&trackingId=fecwC4KC0CGzrzGY1EAhDg%3D%3D&position=2&pageNum=0&trk=public_jobs_jserp-result_search-card\""
   ]
  },
  {
   "cell_type": "code",
   "execution_count": null,
   "metadata": {},
   "outputs": [],
   "source": [
    "link.split(sep=\"?refId=\")[0]"
   ]
  },
  {
   "cell_type": "code",
   "execution_count": null,
   "metadata": {},
   "outputs": [],
   "source": []
  }
 ],
 "metadata": {
  "kernelspec": {
   "display_name": ".venv",
   "language": "python",
   "name": "python3"
  },
  "language_info": {
   "codemirror_mode": {
    "name": "ipython",
    "version": 3
   },
   "file_extension": ".py",
   "mimetype": "text/x-python",
   "name": "python",
   "nbconvert_exporter": "python",
   "pygments_lexer": "ipython3",
   "version": "3.10.12"
  }
 },
 "nbformat": 4,
 "nbformat_minor": 2
}
