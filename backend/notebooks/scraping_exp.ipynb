{
 "cells": [
  {
   "cell_type": "code",
   "execution_count": 1,
   "metadata": {},
   "outputs": [
    {
     "data": {
      "text/plain": [
       "'/home/abraham-pc/Documents/personal_projects/Multi-Platform_Job_Recommender/backend'"
      ]
     },
     "execution_count": 1,
     "metadata": {},
     "output_type": "execute_result"
    }
   ],
   "source": [
    "import os\n",
    "\n",
    "# change the working directory to root of this project\n",
    "os.chdir(\"..\")\n",
    "# os.chdir(\"..\")\n",
    "\n",
    "# verify the working directory\n",
    "os.getcwd()"
   ]
  },
  {
   "cell_type": "code",
   "execution_count": 2,
   "metadata": {},
   "outputs": [],
   "source": [
    "from backend.etl.extract.site_scraper import LinkedinScraper, IndeedScraper, JobbermanScraper"
   ]
  },
  {
   "cell_type": "code",
   "execution_count": 3,
   "metadata": {},
   "outputs": [
    {
     "name": "stderr",
     "output_type": "stream",
     "text": [
      "2023-11-28 00:35:08,726:site_scraper.py:__init__:INFO:Initializing JobbermanScraper:\n",
      "2023-11-28 00:35:08,880:site_scraper.py:__init__:INFO:Setting up webdriver:\n",
      "2023-11-28 00:35:11,293:site_scraper.py:__init__:INFO:webdriver setup successful:\n",
      "2023-11-28 00:35:11,294:site_scraper.py:scrape:INFO:Scraping 25 jobs from Jobberman:\n",
      "2023-11-28 00:35:34,038:site_scraper.py:get_jobs:INFO:Parsing 19 job cards:\n",
      "2023-11-28 00:35:34,041:site_scraper.py:get_jobs:ERROR:Error getting job 1 details: Message: Unable to locate element: /html/body/main/section/div[2]/div[2]/div[1]/div[1]/div[1]/div[2]/div/div[1]/a; For documentation on this error, please visit: https://www.selenium.dev/documentation/webdriver/troubleshooting/errors#no-such-element-exception\n",
      "Stacktrace:\n",
      "RemoteError@chrome://remote/content/shared/RemoteError.sys.mjs:8:8\n",
      "WebDriverError@chrome://remote/content/shared/webdriver/Errors.sys.mjs:189:5\n",
      "NoSuchElementError@chrome://remote/content/shared/webdriver/Errors.sys.mjs:507:5\n",
      "dom.find/</<@chrome://remote/content/shared/DOM.sys.mjs:132:16\n",
      ":\n",
      "2023-11-28 00:35:34,043:site_scraper.py:get_jobs:ERROR:Error getting job 2 details: Message: Unable to locate element: /html/body/main/section/div[2]/div[2]/div[1]/div[2]/div[1]/div[2]/div/div[1]/a; For documentation on this error, please visit: https://www.selenium.dev/documentation/webdriver/troubleshooting/errors#no-such-element-exception\n",
      "Stacktrace:\n",
      "RemoteError@chrome://remote/content/shared/RemoteError.sys.mjs:8:8\n",
      "WebDriverError@chrome://remote/content/shared/webdriver/Errors.sys.mjs:189:5\n",
      "NoSuchElementError@chrome://remote/content/shared/webdriver/Errors.sys.mjs:507:5\n",
      "dom.find/</<@chrome://remote/content/shared/DOM.sys.mjs:132:16\n",
      ":\n",
      "2023-11-28 00:35:34,090:site_scraper.py:get_jobs:ERROR:Error getting job 4 details: Message: Unable to locate element: /html/body/main/section/div[2]/div[2]/div[1]/div[4]/div[1]/div[2]/div/div[1]/a; For documentation on this error, please visit: https://www.selenium.dev/documentation/webdriver/troubleshooting/errors#no-such-element-exception\n",
      "Stacktrace:\n",
      "RemoteError@chrome://remote/content/shared/RemoteError.sys.mjs:8:8\n",
      "WebDriverError@chrome://remote/content/shared/webdriver/Errors.sys.mjs:189:5\n",
      "NoSuchElementError@chrome://remote/content/shared/webdriver/Errors.sys.mjs:507:5\n",
      "dom.find/</<@chrome://remote/content/shared/DOM.sys.mjs:132:16\n",
      ":\n",
      "2023-11-28 00:35:34,156:site_scraper.py:get_jobs:ERROR:Error getting job 7 details: Message: Unable to locate element: /html/body/main/section/div[2]/div[2]/div[1]/div[7]/div[1]/div/div/div[1]/a; For documentation on this error, please visit: https://www.selenium.dev/documentation/webdriver/troubleshooting/errors#no-such-element-exception\n",
      "Stacktrace:\n",
      "RemoteError@chrome://remote/content/shared/RemoteError.sys.mjs:8:8\n",
      "WebDriverError@chrome://remote/content/shared/webdriver/Errors.sys.mjs:189:5\n",
      "NoSuchElementError@chrome://remote/content/shared/webdriver/Errors.sys.mjs:507:5\n",
      "dom.find/</<@chrome://remote/content/shared/DOM.sys.mjs:132:16\n",
      ":\n",
      "2023-11-28 00:35:34,158:site_scraper.py:get_jobs:ERROR:Error getting job 8 details: Message: Unable to locate element: /html/body/main/section/div[2]/div[2]/div[1]/div[8]/div[1]/div/div/div[1]/a; For documentation on this error, please visit: https://www.selenium.dev/documentation/webdriver/troubleshooting/errors#no-such-element-exception\n",
      "Stacktrace:\n",
      "RemoteError@chrome://remote/content/shared/RemoteError.sys.mjs:8:8\n",
      "WebDriverError@chrome://remote/content/shared/webdriver/Errors.sys.mjs:189:5\n",
      "NoSuchElementError@chrome://remote/content/shared/webdriver/Errors.sys.mjs:507:5\n",
      "dom.find/</<@chrome://remote/content/shared/DOM.sys.mjs:132:16\n",
      ":\n",
      "2023-11-28 00:35:34,357:site_scraper.py:get_jobs:ERROR:Error getting job 15 details: Message: Unable to locate element: /html/body/main/section/div[2]/div[2]/div[1]/div[15]/div[1]/div/div/div[1]/a; For documentation on this error, please visit: https://www.selenium.dev/documentation/webdriver/troubleshooting/errors#no-such-element-exception\n",
      "Stacktrace:\n",
      "RemoteError@chrome://remote/content/shared/RemoteError.sys.mjs:8:8\n",
      "WebDriverError@chrome://remote/content/shared/webdriver/Errors.sys.mjs:189:5\n",
      "NoSuchElementError@chrome://remote/content/shared/webdriver/Errors.sys.mjs:507:5\n",
      "dom.find/</<@chrome://remote/content/shared/DOM.sys.mjs:132:16\n",
      ":\n",
      "2023-11-28 00:35:48,168:site_scraper.py:get_jobs:INFO:Parsing 19 job cards:\n",
      "2023-11-28 00:35:48,171:site_scraper.py:get_jobs:ERROR:Error getting job 1 details: Message: Unable to locate element: /html/body/main/section/div[2]/div[2]/div[1]/div[1]/div[1]/div[2]/div/div[1]/a; For documentation on this error, please visit: https://www.selenium.dev/documentation/webdriver/troubleshooting/errors#no-such-element-exception\n",
      "Stacktrace:\n",
      "RemoteError@chrome://remote/content/shared/RemoteError.sys.mjs:8:8\n",
      "WebDriverError@chrome://remote/content/shared/webdriver/Errors.sys.mjs:189:5\n",
      "NoSuchElementError@chrome://remote/content/shared/webdriver/Errors.sys.mjs:507:5\n",
      "dom.find/</<@chrome://remote/content/shared/DOM.sys.mjs:132:16\n",
      ":\n",
      "2023-11-28 00:35:48,173:site_scraper.py:get_jobs:ERROR:Error getting job 2 details: Message: Unable to locate element: /html/body/main/section/div[2]/div[2]/div[1]/div[2]/div[1]/div[2]/div/div[1]/a; For documentation on this error, please visit: https://www.selenium.dev/documentation/webdriver/troubleshooting/errors#no-such-element-exception\n",
      "Stacktrace:\n",
      "RemoteError@chrome://remote/content/shared/RemoteError.sys.mjs:8:8\n",
      "WebDriverError@chrome://remote/content/shared/webdriver/Errors.sys.mjs:189:5\n",
      "NoSuchElementError@chrome://remote/content/shared/webdriver/Errors.sys.mjs:507:5\n",
      "dom.find/</<@chrome://remote/content/shared/DOM.sys.mjs:132:16\n",
      ":\n",
      "2023-11-28 00:35:48,210:site_scraper.py:get_jobs:ERROR:Error getting job 4 details: Message: Unable to locate element: /html/body/main/section/div[2]/div[2]/div[1]/div[4]/div[1]/div[2]/div/div[1]/a; For documentation on this error, please visit: https://www.selenium.dev/documentation/webdriver/troubleshooting/errors#no-such-element-exception\n",
      "Stacktrace:\n",
      "RemoteError@chrome://remote/content/shared/RemoteError.sys.mjs:8:8\n",
      "WebDriverError@chrome://remote/content/shared/webdriver/Errors.sys.mjs:189:5\n",
      "NoSuchElementError@chrome://remote/content/shared/webdriver/Errors.sys.mjs:507:5\n",
      "dom.find/</<@chrome://remote/content/shared/DOM.sys.mjs:132:16\n",
      ":\n",
      "2023-11-28 00:35:48,270:site_scraper.py:get_jobs:ERROR:Error getting job 7 details: Message: Unable to locate element: /html/body/main/section/div[2]/div[2]/div[1]/div[7]/div[1]/div/div/div[1]/a; For documentation on this error, please visit: https://www.selenium.dev/documentation/webdriver/troubleshooting/errors#no-such-element-exception\n",
      "Stacktrace:\n",
      "RemoteError@chrome://remote/content/shared/RemoteError.sys.mjs:8:8\n",
      "WebDriverError@chrome://remote/content/shared/webdriver/Errors.sys.mjs:189:5\n",
      "NoSuchElementError@chrome://remote/content/shared/webdriver/Errors.sys.mjs:507:5\n",
      "dom.find/</<@chrome://remote/content/shared/DOM.sys.mjs:132:16\n",
      ":\n",
      "2023-11-28 00:35:48,272:site_scraper.py:get_jobs:ERROR:Error getting job 8 details: Message: Unable to locate element: /html/body/main/section/div[2]/div[2]/div[1]/div[8]/div[1]/div/div/div[1]/a; For documentation on this error, please visit: https://www.selenium.dev/documentation/webdriver/troubleshooting/errors#no-such-element-exception\n",
      "Stacktrace:\n",
      "RemoteError@chrome://remote/content/shared/RemoteError.sys.mjs:8:8\n",
      "WebDriverError@chrome://remote/content/shared/webdriver/Errors.sys.mjs:189:5\n",
      "NoSuchElementError@chrome://remote/content/shared/webdriver/Errors.sys.mjs:507:5\n",
      "dom.find/</<@chrome://remote/content/shared/DOM.sys.mjs:132:16\n",
      ":\n",
      "2023-11-28 00:35:48,476:site_scraper.py:get_jobs:ERROR:Error getting job 15 details: Message: Unable to locate element: /html/body/main/section/div[2]/div[2]/div[1]/div[15]/div[1]/div/div/div[1]/a; For documentation on this error, please visit: https://www.selenium.dev/documentation/webdriver/troubleshooting/errors#no-such-element-exception\n",
      "Stacktrace:\n",
      "RemoteError@chrome://remote/content/shared/RemoteError.sys.mjs:8:8\n",
      "WebDriverError@chrome://remote/content/shared/webdriver/Errors.sys.mjs:189:5\n",
      "NoSuchElementError@chrome://remote/content/shared/webdriver/Errors.sys.mjs:507:5\n",
      "dom.find/</<@chrome://remote/content/shared/DOM.sys.mjs:132:16\n",
      ":\n",
      "2023-11-28 00:36:36,053:site_scraper.py:create_dataframe:INFO:Creating jobs dataframe:\n",
      "2023-11-28 00:36:36,057:site_scraper.py:update_database:INFO:Updating database:\n",
      "2023-11-28 00:36:36,059:site_scraper.py:create_dataframe:INFO:Creating jobs dataframe:\n",
      "2023-11-28 00:36:36,061:site_scraper.py:update_database:INFO:Found 26 new jobs:\n",
      "2023-11-28 00:36:36,068:site_scraper.py:update_database:INFO:Adding 26 new jobs to job_listings table:\n",
      "2023-11-28 00:36:36,229:site_scraper.py:update_database:INFO:26 new jobs added successfully:\n"
     ]
    }
   ],
   "source": [
    "# indeed_scraper = IndeedScraper()\n",
    "# scraping = indeed_scraper.scrape()\n",
    "# jobs_df = indeed_scraper.create_dataframe()\n",
    "# indeed_scraper.update_database() # working\n",
    "\n",
    "# linkedin_scraper = LinkedinScraper()\n",
    "# scraping = linkedin_scraper.scrape()\n",
    "# jobs_df = linkedin_scraper.create_dataframe()\n",
    "# linkedin_scraper.update_database()\n",
    "\n",
    "jobberman_scraper = JobbermanScraper()\n",
    "scraping = jobberman_scraper.scrape()\n",
    "jobs_df = jobberman_scraper.create_dataframe()\n",
    "jobberman_scraper.update_database()\n",
    "\n"
   ]
  },
  {
   "cell_type": "code",
   "execution_count": null,
   "metadata": {},
   "outputs": [],
   "source": [
    "jobs_df"
   ]
  },
  {
   "cell_type": "code",
   "execution_count": null,
   "metadata": {},
   "outputs": [],
   "source": [
    "df = linkedin_scraper.create_dataframe()"
   ]
  },
  {
   "cell_type": "code",
   "execution_count": null,
   "metadata": {},
   "outputs": [],
   "source": [
    "df['job_id'].unique()"
   ]
  },
  {
   "cell_type": "code",
   "execution_count": null,
   "metadata": {},
   "outputs": [],
   "source": [
    "str(None)"
   ]
  },
  {
   "cell_type": "code",
   "execution_count": null,
   "metadata": {},
   "outputs": [],
   "source": [
    "clean_text(jobs_df['job_desc'][1])"
   ]
  },
  {
   "cell_type": "code",
   "execution_count": null,
   "metadata": {},
   "outputs": [],
   "source": [
    "# Store Keeper\n",
    ".css-1p3gyjy > div:nth-child(1) > div:nth-child(1)\n",
    "\n",
    "# Laundry Supervisor\n",
    "div.css-1p3gyjy:nth-child(1) > div:nth-child(1) > div:nth-child(1)\n",
    "\n",
    "# Data Entry (correct)\n",
    "/html/body/div/div/div[2]/div/div/div[1]/div[3]/div/div[2]/div[4]/div[2]/div[2]/div/div/div/div\n",
    "\n",
    ".css-1p3gyjy > div:nth-child(1) > div:nth-child(1)\n",
    "div.css-1p3gyjy:nth-child(1) > div:nth-child(1) > div:nth-child(1)\n",
    ".css-tvvxwd"
   ]
  },
  {
   "cell_type": "code",
   "execution_count": null,
   "metadata": {},
   "outputs": [],
   "source": [
    ".JobsList_jobsList__Ey2Vo"
   ]
  },
  {
   "cell_type": "code",
   "execution_count": null,
   "metadata": {},
   "outputs": [],
   "source": [
    "/html/body/div[2]/div[1]/div[3]/div[2]/div[1]/div[2]/ul/li[{n}]/div/div/div[1]/div[1]/a[2]"
   ]
  },
  {
   "cell_type": "code",
   "execution_count": null,
   "metadata": {},
   "outputs": [],
   "source": [
    "list(range(0))"
   ]
  },
  {
   "cell_type": "code",
   "execution_count": null,
   "metadata": {},
   "outputs": [],
   "source": [
    "import math\n",
    "math.ceil(37 / 30)"
   ]
  },
  {
   "cell_type": "code",
   "execution_count": null,
   "metadata": {},
   "outputs": [],
   "source": [
    "jobs_df.to_csv('sample_jobs.csv', index=False)"
   ]
  },
  {
   "cell_type": "code",
   "execution_count": null,
   "metadata": {},
   "outputs": [],
   "source": []
  }
 ],
 "metadata": {
  "kernelspec": {
   "display_name": ".venv",
   "language": "python",
   "name": "python3"
  },
  "language_info": {
   "codemirror_mode": {
    "name": "ipython",
    "version": 3
   },
   "file_extension": ".py",
   "mimetype": "text/x-python",
   "name": "python",
   "nbconvert_exporter": "python",
   "pygments_lexer": "ipython3",
   "version": "3.10.12"
  }
 },
 "nbformat": 4,
 "nbformat_minor": 2
}
