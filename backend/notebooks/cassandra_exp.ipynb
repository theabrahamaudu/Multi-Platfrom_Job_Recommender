{
 "cells": [
  {
   "cell_type": "code",
   "execution_count": 1,
   "metadata": {},
   "outputs": [
    {
     "data": {
      "text/plain": [
       "'/home/abraham-pc/Documents/personal_projects/Multi-Platform_Job_Recommender/backend'"
      ]
     },
     "execution_count": 1,
     "metadata": {},
     "output_type": "execute_result"
    }
   ],
   "source": [
    "import os\n",
    "\n",
    "# change the working directory to root of this project\n",
    "os.chdir(\"..\")\n",
    "\n",
    "# verify the working directory\n",
    "os.getcwd()"
   ]
  },
  {
   "cell_type": "code",
   "execution_count": 2,
   "metadata": {},
   "outputs": [],
   "source": [
    "import os\n",
    "import dotenv\n",
    "import yaml\n",
    "from cassandra.cluster import Cluster\n",
    "from cassandra.auth import PlainTextAuthProvider"
   ]
  },
  {
   "cell_type": "code",
   "execution_count": 3,
   "metadata": {},
   "outputs": [],
   "source": [
    "# load environment variables from .env file\n",
    "dotenv.load_dotenv(dotenv_path=\"./config/.env\")\n",
    "\n",
    "# load configuration from config.yaml\n",
    "with open(\"./config/config.yaml\", \"r\") as stream:\n",
    "    try:\n",
    "        config = yaml.safe_load(stream)\n",
    "    except yaml.YAMLError as exc:\n",
    "        print(exc)"
   ]
  },
  {
   "cell_type": "code",
   "execution_count": 4,
   "metadata": {},
   "outputs": [],
   "source": [
    "username = config[\"database\"][\"cassandra\"][\"username\"]\n",
    "password = os.getenv('CASSANDRA_PASSWORD')\n",
    "cluster = Cluster(port=29042, auth_provider=PlainTextAuthProvider(username=username, password=password))"
   ]
  },
  {
   "cell_type": "code",
   "execution_count": 5,
   "metadata": {},
   "outputs": [],
   "source": [
    "session = cluster.connect()"
   ]
  },
  {
   "cell_type": "code",
   "execution_count": 7,
   "metadata": {},
   "outputs": [],
   "source": [
    "sample = session.execute(\"select release_version from system.local\")"
   ]
  },
  {
   "cell_type": "code",
   "execution_count": 8,
   "metadata": {},
   "outputs": [
    {
     "name": "stdout",
     "output_type": "stream",
     "text": [
      "Row(release_version='4.1.3')\n"
     ]
    }
   ],
   "source": [
    "for i in sample:\n",
    "    print(i)"
   ]
  },
  {
   "cell_type": "code",
   "execution_count": 21,
   "metadata": {},
   "outputs": [],
   "source": [
    "from backend.etl.databases.cassandra.cassandra_conn import CassandraConn\n",
    "from backend.etl.databases.cassandra.table_models import JobListings\n",
    "\n",
    "conn = CassandraConn()\n",
    "session = conn.session\n"
   ]
  },
  {
   "cell_type": "code",
   "execution_count": 3,
   "metadata": {},
   "outputs": [],
   "source": [
    "uuids_set = session.execute(\n",
    "            \"SELECT uuid FROM job_listings\"\n",
    "        )\n",
    "uuids = []\n",
    "for i in uuids_set:\n",
    "    uuids.append(str(i['uuid']))"
   ]
  },
  {
   "cell_type": "code",
   "execution_count": 4,
   "metadata": {},
   "outputs": [],
   "source": [
    "scrape_dates_set = session.execute(\n",
    "    \"SELECT scraped_at FROM job_listings\"\n",
    ")\n",
    "scrape_dates = []\n",
    "for i in scrape_dates_set:\n",
    "    scrape_dates.append(i['scraped_at'])"
   ]
  },
  {
   "cell_type": "code",
   "execution_count": 6,
   "metadata": {},
   "outputs": [],
   "source": [
    "from datetime import datetime"
   ]
  },
  {
   "cell_type": "code",
   "execution_count": 12,
   "metadata": {},
   "outputs": [
    {
     "data": {
      "text/plain": [
       "31"
      ]
     },
     "execution_count": 12,
     "metadata": {},
     "output_type": "execute_result"
    }
   ],
   "source": [
    "today = datetime.today() - datetime(2023, 10, 27)\n",
    "today.days"
   ]
  },
  {
   "cell_type": "code",
   "execution_count": 14,
   "metadata": {},
   "outputs": [],
   "source": [
    "jobs_set = session.execute(\n",
    "    \"SELECT * FROM job_listings LIMIT 5\"\n",
    ")\n",
    "jobs = []\n",
    "for job in jobs_set:\n",
    "    jobs.append(job)"
   ]
  },
  {
   "cell_type": "code",
   "execution_count": 15,
   "metadata": {},
   "outputs": [
    {
     "data": {
      "text/plain": [
       "[{'uuid': UUID('5c1b0dff-cafb-fce0-5088-5d42776652e8'),\n",
       "  'company_name': 'Sundry Foods Limited',\n",
       "  'date': '2023-10-13',\n",
       "  'emp_type': '\\n            Full-time\\n          ',\n",
       "  'ind': '\\n            Hospitality\\n            ',\n",
       "  'job_desc': \"\\nNever Miss a Job Update Again. Company: Location: NigeriaState: Job type: Full-Time Job category: Job DescriptionSundry Foods is an integrated food services company founded in 2003 and operating in major cities in Nigeria. We are bringing our now trademark great tasting ready-to-eat food and quality services to thousands of people and institutions daily through its chain and network of restaurants, bakeries and other catering facilities.We are proud to own and operate one of Africa’s best restaurant and bakery chains and we pride ourselves on our ability to consistently deliver original food and service solutions whether in workplaces, schools and colleges, hospitals, joining even remote sites and different cultural environments using our team of young seasoned professionals and an entire workforce with a passion to deliver nothing but the best to every customer.We are recruiting to fill the position belowJob Title: Restaurant Management TraineeLocations: Benin – Edo, Lekki, Victoria Island, Lagos Island, Ajah & Sangotedo – Lagos; Kaduna; Uyo – Akwa Ibom; Onitsha – Anambra; Sapele & Asaba – DeltaJob Status: Full-TimeDescriptionThe Restaurant Management Trainee is responsible for assisting the Restaurant Manager in the proper and profitable running of assigned Restaurant in line with the Company’s Standard of Operations (SOP).Required QualificationsB.Sc / HND qualification (2nd Class Upper / Upper Credit)Required SkillsPassion for good foodCulinary skills is an added advantageDemonstrable leadership skills.Application Closing Date30th December, 2023.Don't Keep! Kindly Share:\\n\",\n",
       "  'job_func': '\\n              Management and Manufacturing\\n            ',\n",
       "  'job_id': 'None',\n",
       "  'job_link': 'https://ng.linkedin.com/jobs/view/restaurant-management-trainee-at-sundry-foods-limited-11-openings-at-sundry-foods-limited-3734968720?refId=kwKLKGAoUFs%2Fvff96FXfjg%3D%3D&trackingId=xVJLYIyzF8EyFXoYT85rtg%3D%3D&position=16&pageNum=0&trk=public_jobs_jserp-result_search-card',\n",
       "  'job_title': 'Restaurant Management Trainee at Sundry Foods Limited (11 Openings)',\n",
       "  'location': 'Nigeria',\n",
       "  'scraped_at': datetime.datetime(2023, 11, 27, 18, 44, 44, 651000),\n",
       "  'seniority': '\\n            Internship\\n          ',\n",
       "  'skipped': False,\n",
       "  'source': 'Linkedin'},\n",
       " {'uuid': UUID('30d12ef8-4990-46a1-58ae-9a9533890488'),\n",
       "  'company_name': 'Rainoil Limited',\n",
       "  'date': '2023-09-20',\n",
       "  'emp_type': '\\n            Full-time\\n          ',\n",
       "  'ind': '\\n            Oil and Gas\\n            ',\n",
       "  'job_desc': \"\\nNever Miss a Job Update Again. Company: Location: NigeriaState: Job type: Full-Time Job category: Job DescriptionRainoil Limited is a leading downstream oil and gas company in Nigeria, committed to delivering top-notch products and services to its customers. With a strong focus on innovation, sustainability, and employee growth, Rainoil has consistently upheld its reputation as a trusted industry leader.We Are Recruiting To Fill The Position BelowJob Title: Station CashierLocations: Oleh-Ogbemudia, Agbor-Alihame, Auchi-Agenbode – Edo and Anwai, Ogwashi-uku, Sapele, DSC-Otukutu, Oghara, Otefe, Idumegbo, Abraka – DeltaEmployment Type: Full-timeJob DescriptionThe ideal candidate will be responsible for managing the petty cash inflow and outflow of Rainoil’s stations and depots as well as maintaining accurate records/books on transactions.Duties & ResponsibilitiesFacilitate the availability of funds to meet day-to-day operational petty cash expenses and emergencies.Maintain records to allow easy disbursement, reconciliation, and replenishment.Process expense retirement ledgers to ensure proper accountability of all cash advances.Create and maintain records of cash requests and disbursements.Reconcile all received cash, which has been recorded in the petty cash book, with expenses.Process payment for accounts and issue receipts.Keep records of amounts received and paid, and regularly check the cash balance against this record.Collect money from the bank for safekeeping before reimbursements.File all documents concerning cash payment and collection.Respond to queries regarding approvals, payment limits and deadlines for retirements, etc.Retire the various imprest accounts.Prepare daily and weekly collections and payment summary reports for review by the station supervisor.Person SpecificationMinimum of an HND in Accounting, Finance, Economics, or a related discipline.Minimum of One (1) year work experience in a similar role.Application Closing Date10th October, 2023.Don't Keep! Kindly Share:\\n\",\n",
       "  'job_func': '\\n              Other\\n            ',\n",
       "  'job_id': 'None',\n",
       "  'job_link': 'https://ng.linkedin.com/jobs/view/station-cashier-at-rainoil-limited-%E2%80%93-edo-delta-at-rainoil-limited-3720329565?refId=kwKLKGAoUFs%2Fvff96FXfjg%3D%3D&trackingId=G3BIUbNiYQ3eHTJpZ1tRDw%3D%3D&position=25&pageNum=0&trk=public_jobs_jserp-result_search-card',\n",
       "  'job_title': 'Station Cashier at Rainoil Limited – Edo & Delta',\n",
       "  'location': 'Nigeria',\n",
       "  'scraped_at': datetime.datetime(2023, 11, 27, 18, 44, 44, 651000),\n",
       "  'seniority': '\\n            Entry level\\n          ',\n",
       "  'skipped': False,\n",
       "  'source': 'Linkedin'},\n",
       " {'uuid': UUID('3a612c2d-5a61-2b95-a6a1-795da02269fa'),\n",
       "  'company_name': 'Ibadan Electricity Distribution Company (IBEDC)',\n",
       "  'date': '2023-11-13',\n",
       "  'emp_type': 'NA',\n",
       "  'ind': 'NA',\n",
       "  'job_desc': 'NA',\n",
       "  'job_func': 'NA',\n",
       "  'job_id': 'None',\n",
       "  'job_link': 'https://ng.linkedin.com/jobs/view/administrative-assistant-at-ibadan-electricity-distribution-company-ibedc-plc-at-ibadan-electricity-distribution-company-ibedc-3758905933?refId=VHChesFXM%2FFViYYh%2FB%2FEPw%3D%3D&trackingId=JX3DblRivRzpdK1%2FEd9RTw%3D%3D&position=12&pageNum=1&trk=public_jobs_jserp-result_search-card',\n",
       "  'job_title': 'Administrative Assistant at Ibadan Electricity Distribution Company (IBEDC) Plc',\n",
       "  'location': 'Nigeria',\n",
       "  'scraped_at': datetime.datetime(2023, 11, 27, 18, 44, 44, 651000),\n",
       "  'seniority': 'NA',\n",
       "  'skipped': False,\n",
       "  'source': 'Linkedin'},\n",
       " {'uuid': UUID('0ed6d2ae-3fb0-a6e4-9407-394282296bec'),\n",
       "  'company_name': 'ICST Solutions',\n",
       "  'date': '2 weeks ago',\n",
       "  'emp_type': 'Full Time',\n",
       "  'ind': 'IT & Telecoms',\n",
       "  'job_desc': 'Job Summary\\n\\nWe seek to hire a suitable candidate to fill this position\\n\\nMinimum Qualification: Degree\\nExperience Level: Senior level\\nExperience Length: 5 years\\n\\nJob Description/Requirements\\n\\nResponsibilities:\\n\\n\\nWork with our training partners to develop online multimedia training content for the\\xa0general public.\\nWork with our enterprise customers to assess training and development needs for their\\xa0organizations and to develop and administer training programs for employees.\\nContinuous review of existing training content to determine appropriateness and\\xa0relevance\\nCoordinate (with the technical team) multimedia productions of the training content\\xa0\\nSpecialize in a particular industry (or sets of industries) and keep current on the activities and needs of that industry by attending regular meetings, conferences, and seminars\\nBe up to date on new educational and training techniques and methods\\n\\n\\n\\n\\n\\nRequirements:\\n\\nHND/BSc in any discipline.\\nA minimum of 3 years experience in training and development management (essential).\\nExcellent written, verbal, and interpersonal communication skills.\\nSuperb track record in developing and executing successful training programs.\\nCritical thinker with innovative problem-solving skills.\\nHighly computer literate with proficiency in MS Office and related business and communication\\xa0tools.\\nFamiliar with traditional and modern training processes.\\nFantastic organizational and time management skills.\\nStrategic and creative mindset.\\nMeticulous attention to detail.\\n',\n",
       "  'job_func': 'Marketing & Communications',\n",
       "  'job_id': 'Not available on Jobberman',\n",
       "  'job_link': 'https://www.jobberman.com/listings/elearning-content-manager-xpd5eq',\n",
       "  'job_title': 'eLearning Content Manager',\n",
       "  'location': 'Lagos',\n",
       "  'scraped_at': datetime.datetime(2023, 11, 27, 18, 49, 15, 316000),\n",
       "  'seniority': 'Senior level',\n",
       "  'skipped': False,\n",
       "  'source': 'Jobberman'},\n",
       " {'uuid': UUID('b3496036-2070-2e44-f567-70898580bad8'),\n",
       "  'company_name': 'Intelfort Nigeria Limited',\n",
       "  'date': 'Today',\n",
       "  'emp_type': 'Full Time',\n",
       "  'ind': 'IT & Telecoms',\n",
       "  'job_desc': \"Job Summary\\n\\nReceptionist is the person whose job is to answer the phone, arrange appointments, and deal with people when they first arrive et.c. We are looking to hire a suitable candidate to fill this position.\\n\\nMinimum Qualification: OND\\nExperience Level: Internship & Graduate\\nExperience Length: 1 year\\n\\nJob Description/Requirements\\n\\nResponsibilities:\\n\\nGreet and welcome guests as soon as they arrive at the office.\\nDirect visitors to the appropriate persons and office\\nAnswering phones in a professional manner, and routing calls as necessary. Provide basic and accurate information in-person and via phone/email.\\n\\nEnsure office is tidy and presentable, with all necessary stationery and material (e.g., pens, forms, and brochures)\\n\\nWriting meeting minutes during meetings.\\n\\nReceive, sort, and distribute daily mail/deliveries.\\n\\nMaintain office security by following safety procedures and controlling access via the reception desk (monitor logbook, issue visitor badges)\\n\\nAssist in ordering office supplies and keeping inventory of stocks.\\n\\nKeep updated records of office expenses and costs.\\n\\nPerform duties such as filing, photocopying, transcribing, and faxing.\\n\\nAssist in preparing meeting rooms and training rooms.\\nAssisting colleagues with administrative tasks.\\nPerforming ad-hoc administrative duties.\\n\\nProvide excellent customer service.\\n\\nEnsure messages are passed to the appropriate staff member on a timely basis.\\n\\nManage office supplies stock and place orders.\\n\\nMaintain and update company databases.\\n\\nAnswer requests/complaints by employees and clients.\\n\\nOccasionally travel off-site to deliver/receive reports or files to/from Clients or suppliers.\\n\\nEnsure the confidentiality and security of files and filing systems.\\n\\nMaintain detailed reports.\\n\\nUpload all documentation to the necessary storage provided by the organization.\\n\\n\\n\\n\\n\\nRequirements:\\n\\nMinimum academic qualification of a Bachelor's degree /OND/HND from a recognized institution.\\nSolid knowledge of office procedures.\\n\\nA minimum of a year’s work experience in the related field is required.\\n\\nComputer literate.\\n\\nHands-on experience with office equipment (e.g., fax machines and printers)\\n\\nMultitasking and time-management skills, with the ability to prioritize tasks.\\n\\nCustomer service attitude\\n\\nAbility to be resourceful and proactive when issues arise.\\n\\nStrong organizational skills with a problem-solving attitude.\\n\\nExcellent written and verbal communication skills.\\n\\nAttention to detail.\\n\",\n",
       "  'job_func': 'Admin & Office',\n",
       "  'job_id': 'Not available on Jobberman',\n",
       "  'job_link': 'https://www.jobberman.com/listings/receptionist-6dx68p',\n",
       "  'job_title': 'Receptionist',\n",
       "  'location': 'Lagos',\n",
       "  'scraped_at': datetime.datetime(2023, 11, 27, 18, 4, 52, 641000),\n",
       "  'seniority': 'Internship & Graduate',\n",
       "  'skipped': False,\n",
       "  'source': 'Jobberman'}]"
      ]
     },
     "execution_count": 15,
     "metadata": {},
     "output_type": "execute_result"
    }
   ],
   "source": [
    "jobs"
   ]
  },
  {
   "cell_type": "code",
   "execution_count": 19,
   "metadata": {},
   "outputs": [],
   "source": [
    "full_text = str()\n",
    "\n",
    "cols = list(jobs[0].keys())[1:]\n",
    "\n",
    "for col in cols:\n",
    "    full_text += str(jobs[0][col]) + \" \""
   ]
  },
  {
   "cell_type": "code",
   "execution_count": 20,
   "metadata": {},
   "outputs": [
    {
     "data": {
      "text/plain": [
       "\"Sundry Foods Limited 2023-10-13 \\n            Full-time\\n           \\n            Hospitality\\n             \\nNever Miss a Job Update Again. Company: Location: NigeriaState: Job type: Full-Time Job category: Job DescriptionSundry Foods is an integrated food services company founded in 2003 and operating in major cities in Nigeria. We are bringing our now trademark great tasting ready-to-eat food and quality services to thousands of people and institutions daily through its chain and network of restaurants, bakeries and other catering facilities.We are proud to own and operate one of Africa’s best restaurant and bakery chains and we pride ourselves on our ability to consistently deliver original food and service solutions whether in workplaces, schools and colleges, hospitals, joining even remote sites and different cultural environments using our team of young seasoned professionals and an entire workforce with a passion to deliver nothing but the best to every customer.We are recruiting to fill the position belowJob Title: Restaurant Management TraineeLocations: Benin – Edo, Lekki, Victoria Island, Lagos Island, Ajah & Sangotedo – Lagos; Kaduna; Uyo – Akwa Ibom; Onitsha – Anambra; Sapele & Asaba – DeltaJob Status: Full-TimeDescriptionThe Restaurant Management Trainee is responsible for assisting the Restaurant Manager in the proper and profitable running of assigned Restaurant in line with the Company’s Standard of Operations (SOP).Required QualificationsB.Sc / HND qualification (2nd Class Upper / Upper Credit)Required SkillsPassion for good foodCulinary skills is an added advantageDemonstrable leadership skills.Application Closing Date30th December, 2023.Don't Keep! Kindly Share:\\n \\n              Management and Manufacturing\\n             None https://ng.linkedin.com/jobs/view/restaurant-management-trainee-at-sundry-foods-limited-11-openings-at-sundry-foods-limited-3734968720?refId=kwKLKGAoUFs%2Fvff96FXfjg%3D%3D&trackingId=xVJLYIyzF8EyFXoYT85rtg%3D%3D&position=16&pageNum=0&trk=public_jobs_jserp-result_search-card Restaurant Management Trainee at Sundry Foods Limited (11 Openings) Nigeria 2023-11-27 18:44:44.651000 \\n            Internship\\n           False Linkedin \""
      ]
     },
     "execution_count": 20,
     "metadata": {},
     "output_type": "execute_result"
    }
   ],
   "source": [
    "full_text"
   ]
  },
  {
   "cell_type": "code",
   "execution_count": 23,
   "metadata": {},
   "outputs": [
    {
     "data": {
      "text/plain": [
       "{'uuid': UUID('5c1b0dff-cafb-fce0-5088-5d42776652e8'),\n",
       " 'skipped': False,\n",
       " 'scraped_at': datetime.datetime(2023, 11, 27, 18, 44, 44, 651000),\n",
       " 'source': 'Linkedin',\n",
       " 'job_id': 'None',\n",
       " 'job_title': 'Restaurant Management Trainee at Sundry Foods Limited (11 Openings)',\n",
       " 'company_name': 'Sundry Foods Limited',\n",
       " 'location': 'Nigeria',\n",
       " 'date': '2023-10-13',\n",
       " 'job_link': 'https://ng.linkedin.com/jobs/view/restaurant-management-trainee-at-sundry-foods-limited-11-openings-at-sundry-foods-limited-3734968720?refId=kwKLKGAoUFs%2Fvff96FXfjg%3D%3D&trackingId=xVJLYIyzF8EyFXoYT85rtg%3D%3D&position=16&pageNum=0&trk=public_jobs_jserp-result_search-card',\n",
       " 'job_desc': \"\\nNever Miss a Job Update Again. Company: Location: NigeriaState: Job type: Full-Time Job category: Job DescriptionSundry Foods is an integrated food services company founded in 2003 and operating in major cities in Nigeria. We are bringing our now trademark great tasting ready-to-eat food and quality services to thousands of people and institutions daily through its chain and network of restaurants, bakeries and other catering facilities.We are proud to own and operate one of Africa’s best restaurant and bakery chains and we pride ourselves on our ability to consistently deliver original food and service solutions whether in workplaces, schools and colleges, hospitals, joining even remote sites and different cultural environments using our team of young seasoned professionals and an entire workforce with a passion to deliver nothing but the best to every customer.We are recruiting to fill the position belowJob Title: Restaurant Management TraineeLocations: Benin – Edo, Lekki, Victoria Island, Lagos Island, Ajah & Sangotedo – Lagos; Kaduna; Uyo – Akwa Ibom; Onitsha – Anambra; Sapele & Asaba – DeltaJob Status: Full-TimeDescriptionThe Restaurant Management Trainee is responsible for assisting the Restaurant Manager in the proper and profitable running of assigned Restaurant in line with the Company’s Standard of Operations (SOP).Required QualificationsB.Sc / HND qualification (2nd Class Upper / Upper Credit)Required SkillsPassion for good foodCulinary skills is an added advantageDemonstrable leadership skills.Application Closing Date30th December, 2023.Don't Keep! Kindly Share:\\n\",\n",
       " 'seniority': '\\n            Internship\\n          ',\n",
       " 'emp_type': '\\n            Full-time\\n          ',\n",
       " 'job_func': '\\n              Management and Manufacturing\\n            ',\n",
       " 'ind': '\\n            Hospitality\\n            '}"
      ]
     },
     "execution_count": 23,
     "metadata": {},
     "output_type": "execute_result"
    }
   ],
   "source": [
    "job = JobListings.objects(uuid=uuids[0]).get()\n",
    "dict(job)"
   ]
  },
  {
   "cell_type": "code",
   "execution_count": null,
   "metadata": {},
   "outputs": [],
   "source": []
  }
 ],
 "metadata": {
  "kernelspec": {
   "display_name": ".venv",
   "language": "python",
   "name": "python3"
  },
  "language_info": {
   "codemirror_mode": {
    "name": "ipython",
    "version": 3
   },
   "file_extension": ".py",
   "mimetype": "text/x-python",
   "name": "python",
   "nbconvert_exporter": "python",
   "pygments_lexer": "ipython3",
   "version": "3.10.12"
  }
 },
 "nbformat": 4,
 "nbformat_minor": 2
}
