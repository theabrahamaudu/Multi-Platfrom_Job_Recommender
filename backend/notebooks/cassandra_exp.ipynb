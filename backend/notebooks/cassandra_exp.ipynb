{
 "cells": [
  {
   "cell_type": "code",
   "execution_count": null,
   "metadata": {},
   "outputs": [],
   "source": [
    "import os\n",
    "\n",
    "# change the working directory to root of this project\n",
    "os.chdir(\"..\")\n",
    "\n",
    "# verify the working directory\n",
    "os.getcwd()"
   ]
  },
  {
   "cell_type": "code",
   "execution_count": null,
   "metadata": {},
   "outputs": [],
   "source": [
    "import os\n",
    "import dotenv\n",
    "import yaml\n",
    "from cassandra.cluster import Cluster\n",
    "from cassandra.auth import PlainTextAuthProvider"
   ]
  },
  {
   "cell_type": "code",
   "execution_count": null,
   "metadata": {},
   "outputs": [],
   "source": [
    "# load environment variables from .env file\n",
    "dotenv.load_dotenv(dotenv_path=\"./config/.env\")\n",
    "\n",
    "# load configuration from config.yaml\n",
    "with open(\"./config/config.yaml\", \"r\") as stream:\n",
    "    try:\n",
    "        config = yaml.safe_load(stream)\n",
    "    except yaml.YAMLError as exc:\n",
    "        print(exc)"
   ]
  },
  {
   "cell_type": "code",
   "execution_count": null,
   "metadata": {},
   "outputs": [],
   "source": [
    "username = config[\"database\"][\"cassandra\"][\"username\"]\n",
    "password = os.getenv('CASSANDRA_PASSWORD')\n",
    "cluster = Cluster(port=29042, auth_provider=PlainTextAuthProvider(username=username, password=password))"
   ]
  },
  {
   "cell_type": "code",
   "execution_count": null,
   "metadata": {},
   "outputs": [],
   "source": [
    "session = cluster.connect()"
   ]
  },
  {
   "cell_type": "code",
   "execution_count": null,
   "metadata": {},
   "outputs": [],
   "source": [
    "sample = session.execute(\"select release_version from system.local\")"
   ]
  },
  {
   "cell_type": "code",
   "execution_count": null,
   "metadata": {},
   "outputs": [],
   "source": [
    "for i in sample:\n",
    "    print(i)"
   ]
  },
  {
   "cell_type": "code",
   "execution_count": null,
   "metadata": {},
   "outputs": [],
   "source": [
    "from backend.etl.databases.cassandra.cassandra_conn import CassandraConn\n",
    "from backend.etl.databases.cassandra.table_models import JobListings\n",
    "\n",
    "conn = CassandraConn()\n",
    "session = conn.session\n"
   ]
  },
  {
   "cell_type": "code",
   "execution_count": null,
   "metadata": {},
   "outputs": [],
   "source": [
    "uuids_set = session.execute(\n",
    "            \"SELECT uuid FROM job_listings\"\n",
    "        )\n",
    "uuids = []\n",
    "for i in uuids_set:\n",
    "    uuids.append(str(i['uuid']))"
   ]
  },
  {
   "cell_type": "code",
   "execution_count": null,
   "metadata": {},
   "outputs": [],
   "source": [
    "scrape_dates_set = session.execute(\n",
    "    \"SELECT scraped_at FROM job_listings\"\n",
    ")\n",
    "scrape_dates = []\n",
    "for i in scrape_dates_set:\n",
    "    scrape_dates.append(i['scraped_at'])"
   ]
  },
  {
   "cell_type": "code",
   "execution_count": null,
   "metadata": {},
   "outputs": [],
   "source": [
    "from datetime import datetime"
   ]
  },
  {
   "cell_type": "code",
   "execution_count": null,
   "metadata": {},
   "outputs": [],
   "source": [
    "today = datetime.today() - datetime(2023, 10, 27)\n",
    "today.days"
   ]
  },
  {
   "cell_type": "code",
   "execution_count": null,
   "metadata": {},
   "outputs": [],
   "source": [
    "jobs_set = session.execute(\n",
    "    \"SELECT * FROM job_listings LIMIT 5\"\n",
    ")\n",
    "jobs = []\n",
    "for job in jobs_set:\n",
    "    jobs.append(job)"
   ]
  },
  {
   "cell_type": "code",
   "execution_count": null,
   "metadata": {},
   "outputs": [],
   "source": [
    "jobs"
   ]
  },
  {
   "cell_type": "code",
   "execution_count": null,
   "metadata": {},
   "outputs": [],
   "source": [
    "full_text = str()\n",
    "\n",
    "cols = list(jobs[0].keys())[1:]\n",
    "\n",
    "for col in cols:\n",
    "    full_text += str(jobs[0][col]) + \" \""
   ]
  },
  {
   "cell_type": "code",
   "execution_count": null,
   "metadata": {},
   "outputs": [],
   "source": [
    "full_text"
   ]
  },
  {
   "cell_type": "code",
   "execution_count": null,
   "metadata": {},
   "outputs": [],
   "source": [
    "job = JobListings.objects(uuid=uuids[0]).get()\n",
    "dict(job)"
   ]
  },
  {
   "cell_type": "code",
   "execution_count": 1,
   "metadata": {},
   "outputs": [],
   "source": [
    "import os\n",
    "\n",
    "# change the working directory to root of this project\n",
    "os.chdir(\"..\")\n",
    "\n",
    "# verify the working directory\n",
    "os.getcwd()\n",
    "from uuid import UUID\n",
    "from backend.etl.utils.utilities import get_user_metadata, scrub_metadata"
   ]
  },
  {
   "cell_type": "code",
   "execution_count": 3,
   "metadata": {},
   "outputs": [],
   "source": [
    "meta = get_user_metadata(user_id=UUID(\"d28a14e5-1970-4e59-9450-6c9bb1dab629\"))"
   ]
  },
  {
   "cell_type": "code",
   "execution_count": 4,
   "metadata": {},
   "outputs": [
    {
     "data": {
      "text/plain": [
       "'data visualization, machine learning, ABC Inc., Developer, XYZ Corp., Manager, Entry Level, Remote, >200,000, , '"
      ]
     },
     "execution_count": 4,
     "metadata": {},
     "output_type": "execute_result"
    }
   ],
   "source": [
    "meta"
   ]
  },
  {
   "cell_type": "code",
   "execution_count": 2,
   "metadata": {},
   "outputs": [],
   "source": [
    "scrub = scrub_metadata(user_id=\"d28a14e5-1970-4e59-9450-6c9bb1dab629\",\n",
    "                       cuttoff=5)"
   ]
  },
  {
   "cell_type": "code",
   "execution_count": null,
   "metadata": {},
   "outputs": [],
   "source": [
    "{\n",
    "\"user_id\": \"d28a14e5-1970-4e59-9450-6c9bb1dab629\",\n",
    "\"search_id\": \"6a3a1ec0-c709-4ccc-a71b-eb2c3fc8d745\",\n",
    "\"search_timestamp\": \"2023-11-28T23:37:08.260000\",\n",
    "\"search_query\": \"Data Scientist\",\n",
    "\"search_results\": [\n",
    "    \"7095930d-e660-aaf0-488b-44aad9338a8a\",\n",
    "    \"f7e45f5d-cdc6-4291-dcbc-eef369ccc40a\",\n",
    "    \"5e0bd2dd-7306-8066-cbea-dd8a489dd310\",\n",
    "    \"3cda4a9d-0724-1957-909d-d67b9c369f78\",\n",
    "    \"845aa368-e9e6-c759-eed4-7b4e60d82dc3\",\n",
    "    \"8dc57766-e1ed-12e5-f121-4892ba3167f3\",\n",
    "    \"134af755-341d-ef66-4f15-f1fee7ec7540\",\n",
    "    \"b72f704e-93d6-fdba-3b21-283ef5309864\",\n",
    "    \"d7478fb3-17fb-d553-c232-2df85d019a41\",\n",
    "    \"c6f9d1a3-b1b1-bd06-98f7-86c26ff67670\"\n",
    "]\n",
    "}"
   ]
  },
  {
   "cell_type": "code",
   "execution_count": 3,
   "metadata": {},
   "outputs": [
    {
     "data": {
      "text/plain": [
       "[1, 3]"
      ]
     },
     "execution_count": 3,
     "metadata": {},
     "output_type": "execute_result"
    }
   ],
   "source": [
    "list(set([1,1,3]))"
   ]
  },
  {
   "cell_type": "code",
   "execution_count": 16,
   "metadata": {},
   "outputs": [
    {
     "data": {
      "text/plain": [
       "datetime.datetime(2023, 12, 2, 0, 0)"
      ]
     },
     "execution_count": 16,
     "metadata": {},
     "output_type": "execute_result"
    }
   ],
   "source": [
    "from datetime import date\n",
    "\n",
    "dte = date.today()\n",
    "str_date = dte.strftime(\"%Y-%m-%d\")\n",
    "datetime.strptime(str_date, \"%Y-%m-%d\")\n",
    "# str_date"
   ]
  },
  {
   "cell_type": "code",
   "execution_count": 7,
   "metadata": {},
   "outputs": [],
   "source": [
    "import requests\n",
    "payload = {\n",
    "    \"query\": \" \",\n",
    "    \"user_id\": \"72270b81-0790-4e82-9ac3-5ce708e56f98\",\n",
    "}\n",
    "recommended_jobs = requests.get(\n",
    "    f\"http://localhost:28000/index/search/{payload['user_id']}&&{payload['query']}\",\n",
    "    json=payload\n",
    ").json()"
   ]
  },
  {
   "cell_type": "code",
   "execution_count": 8,
   "metadata": {},
   "outputs": [
    {
     "data": {
      "text/plain": [
       "['b3496036-2070-2e44-f567-70898580bad8',\n",
       " '538fa3da-fdbc-ecbd-9972-0f012b8efbbf',\n",
       " 'bfe74f28-11e3-e97c-0e5b-a05fcaa796f3',\n",
       " 'be057ad5-1011-1354-8d93-1f88111b78b6',\n",
       " '9d9ab3d0-6a74-c1ad-cfdb-c2e33b8be3e7',\n",
       " 'b086deef-268e-1c75-33c3-1bd0cbe5b227',\n",
       " 'b72f704e-93d6-fdba-3b21-283ef5309864',\n",
       " '53d836cd-fb1c-40e2-225d-513360091c22',\n",
       " '134af755-341d-ef66-4f15-f1fee7ec7540',\n",
       " 'e6eed8ec-ab3d-75e3-fb58-ce728d3e5902']"
      ]
     },
     "execution_count": 8,
     "metadata": {},
     "output_type": "execute_result"
    }
   ],
   "source": [
    "recommended_jobs"
   ]
  },
  {
   "cell_type": "code",
   "execution_count": 7,
   "metadata": {},
   "outputs": [],
   "source": [
    "job = requests.get(\n",
    "    f\"http://localhost:28000/jobs/fetch/d7478fb3-17fb-d553-c232-2df85d019a41\",\n",
    "    json={\"job_id\": \"d7478fb3-17fb-d553-c232-2df85d019a41\"}\n",
    ").json()"
   ]
  },
  {
   "cell_type": "code",
   "execution_count": 8,
   "metadata": {},
   "outputs": [
    {
     "data": {
      "text/plain": [
       "[{'uuid': 'd7478fb3-17fb-d553-c232-2df85d019a41',\n",
       "  'skipped': False,\n",
       "  'scraped_at': '2023-11-28T00:36:36.060000',\n",
       "  'source': 'Jobberman',\n",
       "  'job_id': 'Not available on Jobberman',\n",
       "  'job_title': 'Medical Officer',\n",
       "  'company_name': 'ALLIANCE HOSPITAL AND SERVICES LTD',\n",
       "  'location': 'Abuja',\n",
       "  'date': 'Today',\n",
       "  'job_link': 'https://www.jobberman.com/listings/medical-officer-5d64qn',\n",
       "  'job_desc': 'Job Summary\\n\\nWe are looking to hire a suitable candidate to fill this position who will be responsible for providing comprehensive medical care to patients, coordinating with healthcare teams, and ensuring the highest standards of patient safety and satisfaction.\\n\\nMinimum Qualification: MBBS\\nExperience Level: Entry level\\nExperience Length: No Experience/Less than 1 year\\n\\nJob Description/Requirements\\nResponsibilities:\\nPatient Care:\\nConduct medical examinations, assessments, and diagnosis of patients.\\nDevelop and implement treatment plans in collaboration with other healthcare professionals.\\nPrescribe medications and monitor patient responses.\\nProvide counseling and education to patients regarding their medical conditions and treatment options.\\n\\n\\n\\n\\nEmergency Response:\\n\\nRespond to medical emergencies and provide immediate care.\\nCoordinate with emergency response teams for efficient patient management.\\nStabilize and treat patients in critical conditions.\\n\\n\\n\\n\\nCollaboration and Communication:\\n\\nCollaborate with specialists, nurses, and other healthcare professionals to ensure holistic patient care.\\nParticipate in multidisciplinary meetings to discuss patient cases and treatment plans.\\nMaintain effective communication with patients, families, and hospital staff\\n\\n\\n\\n\\nRecord Keeping:\\n\\nMaintain accurate and up-to-date medical records for all patients.\\nDocument treatment plans, progress notes, and other relevant information.\\n\\n\\n\\n\\nQuality Assurance:\\n\\nAdhere to hospital protocols and standards of care.\\nParticipate in quality improvement initiatives.\\nEnsure compliance with regulatory requirements and accreditation standards.\\n\\n\\n\\n\\n\\n\\n\\nContinuing Education:\\n\\nStay informed about advances in medical knowledge and technology.\\nAttend conferences, workshops, and training sessions to enhance professional development.\\n\\n\\n\\n\\n\\n\\n\\nAdministrative Duties:\\n\\n\\nParticipate in hospital committees and contribute to administrative functions.\\nAssist in the development and implementation of hospital policies and procedures.\\n\\n\\n\\n\\nRequirements:\\n\\nMedical degree from a recognized institution.\\nValid medical license and registration.\\nResidency training in a relevant specialty.\\nExperience in a hospital setting, preferably in a multi-specialty environment.\\nStrong interpersonal and communication skills.\\nAbility to work in a fast-paced and dynamic healthcare environment.\\nCommitment to patient-centered care and safety.',\n",
       "  'seniority': 'Entry level',\n",
       "  'emp_type': 'Full Time',\n",
       "  'job_func': 'Medical & Pharmaceutical',\n",
       "  'ind': 'Healthcare'}]"
      ]
     },
     "execution_count": 8,
     "metadata": {},
     "output_type": "execute_result"
    }
   ],
   "source": [
    "job"
   ]
  },
  {
   "cell_type": "code",
   "execution_count": null,
   "metadata": {},
   "outputs": [],
   "source": []
  }
 ],
 "metadata": {
  "kernelspec": {
   "display_name": ".venv",
   "language": "python",
   "name": "python3"
  },
  "language_info": {
   "codemirror_mode": {
    "name": "ipython",
    "version": 3
   },
   "file_extension": ".py",
   "mimetype": "text/x-python",
   "name": "python",
   "nbconvert_exporter": "python",
   "pygments_lexer": "ipython3",
   "version": "3.10.12"
  }
 },
 "nbformat": 4,
 "nbformat_minor": 2
}
