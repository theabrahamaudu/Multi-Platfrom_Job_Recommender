{
 "cells": [
  {
   "cell_type": "code",
   "execution_count": 1,
   "metadata": {},
   "outputs": [
    {
     "data": {
      "text/plain": [
       "'/home/abraham-pc/Documents/personal_projects/Multi-Platform_Job_Recommender/backend'"
      ]
     },
     "execution_count": 1,
     "metadata": {},
     "output_type": "execute_result"
    }
   ],
   "source": [
    "import os\n",
    "\n",
    "# change the working directory to root of this project\n",
    "os.chdir(\"..\")\n",
    "\n",
    "# verify the working directory\n",
    "os.getcwd()"
   ]
  },
  {
   "cell_type": "code",
   "execution_count": null,
   "metadata": {},
   "outputs": [],
   "source": [
    "import os\n",
    "import dotenv\n",
    "import yaml\n",
    "from pymilvus import connections"
   ]
  },
  {
   "cell_type": "code",
   "execution_count": null,
   "metadata": {},
   "outputs": [],
   "source": [
    "# load environment variables from .env file\n",
    "dotenv.load_dotenv(dotenv_path=\"./config/.env\")\n",
    "\n",
    "# load configuration from config.yaml\n",
    "with open(\"./config/config.yaml\", \"r\") as stream:\n",
    "    try:\n",
    "        config = yaml.safe_load(stream)\n",
    "    except yaml.YAMLError as exc:\n",
    "        print(exc)"
   ]
  },
  {
   "cell_type": "code",
   "execution_count": null,
   "metadata": {},
   "outputs": [],
   "source": [
    "user = str(config[\"database\"][\"milvus\"][\"username\"])\n",
    "password = str(os.getenv(\"MILVUS_PASSWORD\"))\n",
    "\n",
    "connections.connect(\n",
    "    alias='default',\n",
    "    host='localhost',\n",
    "    port='19530',\n",
    "    user=user,\n",
    "    password=password\n",
    ")"
   ]
  },
  {
   "cell_type": "code",
   "execution_count": null,
   "metadata": {},
   "outputs": [],
   "source": [
    "connections.disconnect('default')"
   ]
  },
  {
   "cell_type": "code",
   "execution_count": 5,
   "metadata": {},
   "outputs": [],
   "source": [
    "from backend.etl.load.load_milvus import MilvusIO\n",
    "\n",
    "milvus = MilvusIO()\n"
   ]
  },
  {
   "cell_type": "code",
   "execution_count": 6,
   "metadata": {},
   "outputs": [
    {
     "data": {
      "text/plain": [
       "'recommender'"
      ]
     },
     "execution_count": 6,
     "metadata": {},
     "output_type": "execute_result"
    }
   ],
   "source": [
    "milvus.conn.session_name"
   ]
  },
  {
   "cell_type": "code",
   "execution_count": 8,
   "metadata": {},
   "outputs": [
    {
     "name": "stderr",
     "output_type": "stream",
     "text": [
      "\u001b[93m[query] retry:4, cost: 0.27s, reason: <_MultiThreadedRendezvous: StatusCode.UNAVAILABLE, failed to connect to all addresses; last error: UNKNOWN: ipv4:127.0.0.1:19530: connection attempt timed out before receiving SETTINGS frame>\u001b[0m\n",
      "\u001b[93m[query] retry:5, cost: 0.81s, reason: <_MultiThreadedRendezvous: StatusCode.UNAVAILABLE, failed to connect to all addresses; last error: UNKNOWN: ipv4:127.0.0.1:19530: connection attempt timed out before receiving SETTINGS frame>\u001b[0m\n",
      "\u001b[93m[query] retry:6, cost: 2.43s, reason: <_MultiThreadedRendezvous: StatusCode.UNAVAILABLE, failed to connect to all addresses; last error: UNKNOWN: ipv4:127.0.0.1:19530: connection attempt timed out before receiving SETTINGS frame>\u001b[0m\n",
      "\u001b[93m[query] retry:7, cost: 3.00s, reason: <_MultiThreadedRendezvous: StatusCode.UNAVAILABLE, failed to connect to all addresses; last error: UNKNOWN: ipv4:127.0.0.1:19530: connection attempt timed out before receiving SETTINGS frame>\u001b[0m\n",
      "\u001b[93m[query] retry:8, cost: 3.00s, reason: <_MultiThreadedRendezvous: StatusCode.UNAVAILABLE, failed to connect to all addresses; last error: UNKNOWN: ipv4:127.0.0.1:19530: connection attempt timed out before receiving SETTINGS frame>\u001b[0m\n",
      "\u001b[93m[query] retry:9, cost: 3.00s, reason: <_MultiThreadedRendezvous: StatusCode.UNAVAILABLE, failed to connect to all addresses; last error: UNKNOWN: ipv4:127.0.0.1:19530: connection attempt timed out before receiving SETTINGS frame>\u001b[0m\n",
      "\u001b[93m[query] retry:10, cost: 3.00s, reason: <_MultiThreadedRendezvous: StatusCode.UNAVAILABLE, failed to connect to all addresses; last error: UNKNOWN: ipv4:127.0.0.1:19530: connection attempt timed out before receiving SETTINGS frame>\u001b[0m\n",
      "\u001b[93m[query] retry:11, cost: 3.00s, reason: <_MultiThreadedRendezvous: StatusCode.UNAVAILABLE, failed to connect to all addresses; last error: UNKNOWN: ipv4:127.0.0.1:19530: connection attempt timed out before receiving SETTINGS frame>\u001b[0m\n",
      "\u001b[93m[query] retry:12, cost: 3.00s, reason: <_MultiThreadedRendezvous: StatusCode.UNAVAILABLE, failed to connect to all addresses; last error: UNKNOWN: ipv4:127.0.0.1:19530: connection attempt timed out before receiving SETTINGS frame>\u001b[0m\n",
      "\u001b[93m[query] retry:13, cost: 3.00s, reason: <_MultiThreadedRendezvous: StatusCode.UNAVAILABLE, failed to connect to all addresses; last error: UNKNOWN: ipv4:127.0.0.1:19530: connection attempt timed out before receiving SETTINGS frame>\u001b[0m\n",
      "\u001b[93m[query] retry:14, cost: 3.00s, reason: <_MultiThreadedRendezvous: StatusCode.UNAVAILABLE, failed to connect to all addresses; last error: UNKNOWN: ipv4:127.0.0.1:19530: connection attempt timed out before receiving SETTINGS frame>\u001b[0m\n"
     ]
    },
    {
     "name": "stdout",
     "output_type": "stream",
     "text": [
      "To push:  0\n"
     ]
    }
   ],
   "source": [
    "milvus.load_from_cassandra()\n"
   ]
  },
  {
   "cell_type": "code",
   "execution_count": null,
   "metadata": {},
   "outputs": [],
   "source": [
    "milvus.close()"
   ]
  },
  {
   "cell_type": "code",
   "execution_count": 8,
   "metadata": {},
   "outputs": [
    {
     "data": {
      "text/plain": [
       "['b3496036-2070-2e44-f567-70898580bad8',\n",
       " '538fa3da-fdbc-ecbd-9972-0f012b8efbbf',\n",
       " '8dc57766-e1ed-12e5-f121-4892ba3167f3',\n",
       " 'd302729c-a36f-e33e-3aed-82f9e10e9aef',\n",
       " 'c6f9d1a3-b1b1-bd06-98f7-86c26ff67670',\n",
       " '7095930d-e660-aaf0-488b-44aad9338a8a',\n",
       " '845aa368-e9e6-c759-eed4-7b4e60d82dc3',\n",
       " '2ed03dc6-131b-df7e-9ecc-1655c912bcd5',\n",
       " 'f7e45f5d-cdc6-4291-dcbc-eef369ccc40a',\n",
       " 'c26fa8cb-f27d-6683-e14c-3fbe5c1f9777',\n",
       " '10cb5a7e-b45e-b59d-f528-ee234f625e7c',\n",
       " 'be057ad5-1011-1354-8d93-1f88111b78b6',\n",
       " 'b72f704e-93d6-fdba-3b21-283ef5309864',\n",
       " 'de3fc696-0e8f-828b-6213-6e2a45367b70',\n",
       " 'f0589f52-f1a5-4ad5-7bb3-fe0460d5de5b',\n",
       " '3cda4a9d-0724-1957-909d-d67b9c369f78',\n",
       " 'd7478fb3-17fb-d553-c232-2df85d019a41',\n",
       " '53d836cd-fb1c-40e2-225d-513360091c22',\n",
       " 'b086deef-268e-1c75-33c3-1bd0cbe5b227',\n",
       " '9d9ab3d0-6a74-c1ad-cfdb-c2e33b8be3e7',\n",
       " '5e0bd2dd-7306-8066-cbea-dd8a489dd310',\n",
       " 'fce63312-c09d-6c9b-3d24-da336251fec7',\n",
       " 'bfe74f28-11e3-e97c-0e5b-a05fcaa796f3',\n",
       " '134af755-341d-ef66-4f15-f1fee7ec7540',\n",
       " 'e6eed8ec-ab3d-75e3-fb58-ce728d3e5902']"
      ]
     },
     "execution_count": 8,
     "metadata": {},
     "output_type": "execute_result"
    }
   ],
   "source": [
    "milvus.uuids"
   ]
  },
  {
   "cell_type": "code",
   "execution_count": 9,
   "metadata": {},
   "outputs": [
    {
     "data": {
      "text/plain": [
       "[{'uuid': '10cb5a7e-b45e-b59d-f528-ee234f625e7c'},\n",
       " {'uuid': '134af755-341d-ef66-4f15-f1fee7ec7540'},\n",
       " {'uuid': '2ed03dc6-131b-df7e-9ecc-1655c912bcd5'},\n",
       " {'uuid': '3cda4a9d-0724-1957-909d-d67b9c369f78'},\n",
       " {'uuid': '538fa3da-fdbc-ecbd-9972-0f012b8efbbf'},\n",
       " {'uuid': '53d836cd-fb1c-40e2-225d-513360091c22'},\n",
       " {'uuid': '5e0bd2dd-7306-8066-cbea-dd8a489dd310'},\n",
       " {'uuid': '7095930d-e660-aaf0-488b-44aad9338a8a'},\n",
       " {'uuid': '845aa368-e9e6-c759-eed4-7b4e60d82dc3'},\n",
       " {'uuid': '8dc57766-e1ed-12e5-f121-4892ba3167f3'},\n",
       " {'uuid': '9d9ab3d0-6a74-c1ad-cfdb-c2e33b8be3e7'},\n",
       " {'uuid': 'b086deef-268e-1c75-33c3-1bd0cbe5b227'},\n",
       " {'uuid': 'b3496036-2070-2e44-f567-70898580bad8'},\n",
       " {'uuid': 'b72f704e-93d6-fdba-3b21-283ef5309864'},\n",
       " {'uuid': 'be057ad5-1011-1354-8d93-1f88111b78b6'},\n",
       " {'uuid': 'bfe74f28-11e3-e97c-0e5b-a05fcaa796f3'},\n",
       " {'uuid': 'c26fa8cb-f27d-6683-e14c-3fbe5c1f9777'},\n",
       " {'uuid': 'c6f9d1a3-b1b1-bd06-98f7-86c26ff67670'},\n",
       " {'uuid': 'd302729c-a36f-e33e-3aed-82f9e10e9aef'},\n",
       " {'uuid': 'd7478fb3-17fb-d553-c232-2df85d019a41'},\n",
       " {'uuid': 'de3fc696-0e8f-828b-6213-6e2a45367b70'},\n",
       " {'uuid': 'e6eed8ec-ab3d-75e3-fb58-ce728d3e5902'},\n",
       " {'uuid': 'f0589f52-f1a5-4ad5-7bb3-fe0460d5de5b'},\n",
       " {'uuid': 'f7e45f5d-cdc6-4291-dcbc-eef369ccc40a'},\n",
       " {'uuid': 'fce63312-c09d-6c9b-3d24-da336251fec7'}]"
      ]
     },
     "execution_count": 9,
     "metadata": {},
     "output_type": "execute_result"
    }
   ],
   "source": [
    "milvus.vector_uuids"
   ]
  },
  {
   "cell_type": "code",
   "execution_count": null,
   "metadata": {},
   "outputs": [],
   "source": []
  }
 ],
 "metadata": {
  "kernelspec": {
   "display_name": ".venv",
   "language": "python",
   "name": "python3"
  },
  "language_info": {
   "codemirror_mode": {
    "name": "ipython",
    "version": 3
   },
   "file_extension": ".py",
   "mimetype": "text/x-python",
   "name": "python",
   "nbconvert_exporter": "python",
   "pygments_lexer": "ipython3",
   "version": "3.10.12"
  }
 },
 "nbformat": 4,
 "nbformat_minor": 2
}
