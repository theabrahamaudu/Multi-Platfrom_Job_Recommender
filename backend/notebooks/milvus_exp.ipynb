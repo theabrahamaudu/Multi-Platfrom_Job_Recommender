{
 "cells": [
  {
   "cell_type": "code",
   "execution_count": null,
   "metadata": {},
   "outputs": [],
   "source": [
    "import os\n",
    "\n",
    "# change the working directory to root of this project\n",
    "os.chdir(\"..\")\n",
    "\n",
    "# verify the working directory\n",
    "os.getcwd()"
   ]
  },
  {
   "cell_type": "code",
   "execution_count": null,
   "metadata": {},
   "outputs": [],
   "source": [
    "import os\n",
    "import dotenv\n",
    "import yaml\n",
    "from pymilvus import connections"
   ]
  },
  {
   "cell_type": "code",
   "execution_count": null,
   "metadata": {},
   "outputs": [],
   "source": [
    "# load environment variables from .env file\n",
    "dotenv.load_dotenv(dotenv_path=\"./config/.env\")\n",
    "\n",
    "# load configuration from config.yaml\n",
    "with open(\"./config/config.yaml\", \"r\") as stream:\n",
    "    try:\n",
    "        config = yaml.safe_load(stream)\n",
    "    except yaml.YAMLError as exc:\n",
    "        print(exc)"
   ]
  },
  {
   "cell_type": "code",
   "execution_count": null,
   "metadata": {},
   "outputs": [],
   "source": [
    "user = str(config[\"database\"][\"milvus\"][\"username\"])\n",
    "password = str(os.getenv(\"MILVUS_PASSWORD\"))\n",
    "\n",
    "connections.connect(\n",
    "    alias='default',\n",
    "    host='localhost',\n",
    "    port='19530',\n",
    "    user=user,\n",
    "    password=password\n",
    ")"
   ]
  },
  {
   "cell_type": "code",
   "execution_count": null,
   "metadata": {},
   "outputs": [],
   "source": [
    "connections.disconnect('default')"
   ]
  },
  {
   "cell_type": "code",
   "execution_count": 6,
   "metadata": {},
   "outputs": [],
   "source": [
    "from backend.etl.load.load_milvus import MilvusIO\n",
    "\n",
    "milvus = MilvusIO()\n"
   ]
  },
  {
   "cell_type": "code",
   "execution_count": 7,
   "metadata": {},
   "outputs": [
    {
     "data": {
      "text/plain": [
       "'recommender'"
      ]
     },
     "execution_count": 7,
     "metadata": {},
     "output_type": "execute_result"
    }
   ],
   "source": [
    "milvus.conn.session_name"
   ]
  },
  {
   "cell_type": "code",
   "execution_count": 8,
   "metadata": {},
   "outputs": [
    {
     "name": "stdout",
     "output_type": "stream",
     "text": [
      "To push:  25\n"
     ]
    }
   ],
   "source": [
    "milvus.load_from_cassandra()\n"
   ]
  },
  {
   "cell_type": "code",
   "execution_count": null,
   "metadata": {},
   "outputs": [],
   "source": [
    "milvus.close()"
   ]
  },
  {
   "cell_type": "code",
   "execution_count": 1,
   "metadata": {},
   "outputs": [
    {
     "name": "stderr",
     "output_type": "stream",
     "text": [
      "/home/abraham-pc/Documents/personal_projects/Multi-Platform_Job_Recommender/.venv/lib/python3.10/site-packages/tqdm/auto.py:21: TqdmWarning: IProgress not found. Please update jupyter and ipywidgets. See https://ipywidgets.readthedocs.io/en/stable/user_install.html\n",
      "  from .autonotebook import tqdm as notebook_tqdm\n"
     ]
    }
   ],
   "source": [
    "import os\n",
    "\n",
    "# change the working directory to root of this project\n",
    "os.chdir(\"..\")\n",
    "\n",
    "# verify the working directory\n",
    "os.getcwd()\n",
    "\n",
    "from pymilvus import Collection\n",
    "from backend.etl.databases.milvus.milvus_conn import MilvusConn\n",
    "from backend.etl.databases.milvus.table_models import collection_name\n",
    "from backend.etl.transform.vectorizer import vectorize"
   ]
  },
  {
   "cell_type": "code",
   "execution_count": 2,
   "metadata": {},
   "outputs": [],
   "source": [
    "conn = MilvusConn()\n",
    "\n",
    "jobs_table = Collection(\n",
    "    name=collection_name,\n",
    "    using=conn.session_name,\n",
    ")\n",
    "jobs_table.load()"
   ]
  },
  {
   "cell_type": "code",
   "execution_count": 21,
   "metadata": {},
   "outputs": [],
   "source": [
    "query = \"Data Scientist\"\n",
    "query_vector = vectorize(query).tolist()\n",
    "results = jobs_table.search(\n",
    "    [query_vector],\n",
    "    anns_field=\"embedding\",\n",
    "    param={\"metric_type\": \"L2\", \"params\": {\"nprobe\": 10}},\n",
    "    consistency_level=\"Strong\",\n",
    "    limit=10\n",
    ")"
   ]
  },
  {
   "cell_type": "code",
   "execution_count": 22,
   "metadata": {},
   "outputs": [
    {
     "data": {
      "text/plain": [
       "['7095930d-e660-aaf0-488b-44aad9338a8a',\n",
       " 'f7e45f5d-cdc6-4291-dcbc-eef369ccc40a',\n",
       " '5e0bd2dd-7306-8066-cbea-dd8a489dd310',\n",
       " '3cda4a9d-0724-1957-909d-d67b9c369f78',\n",
       " '845aa368-e9e6-c759-eed4-7b4e60d82dc3',\n",
       " '8dc57766-e1ed-12e5-f121-4892ba3167f3',\n",
       " '134af755-341d-ef66-4f15-f1fee7ec7540',\n",
       " 'b72f704e-93d6-fdba-3b21-283ef5309864',\n",
       " 'd7478fb3-17fb-d553-c232-2df85d019a41',\n",
       " 'c6f9d1a3-b1b1-bd06-98f7-86c26ff67670']"
      ]
     },
     "execution_count": 22,
     "metadata": {},
     "output_type": "execute_result"
    }
   ],
   "source": [
    "results[0].ids"
   ]
  },
  {
   "cell_type": "code",
   "execution_count": null,
   "metadata": {},
   "outputs": [],
   "source": []
  }
 ],
 "metadata": {
  "kernelspec": {
   "display_name": ".venv",
   "language": "python",
   "name": "python3"
  },
  "language_info": {
   "codemirror_mode": {
    "name": "ipython",
    "version": 3
   },
   "file_extension": ".py",
   "mimetype": "text/x-python",
   "name": "python",
   "nbconvert_exporter": "python",
   "pygments_lexer": "ipython3",
   "version": "3.10.12"
  }
 },
 "nbformat": 4,
 "nbformat_minor": 2
}
